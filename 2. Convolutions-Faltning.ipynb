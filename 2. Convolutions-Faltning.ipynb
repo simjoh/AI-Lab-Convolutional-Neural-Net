{
 "cells": [
  {
   "cell_type": "markdown",
   "metadata": {},
   "source": [
    "# Convolutions\n",
    "This is a small notebook showing what convolution is and the effect on signals and images. \n",
    "\n",
    "The aim of this notebook is to give the user some understanding of convolutions.\n",
    "\n",
    "Do not spend to much time on this one! "
   ]
  },
  {
   "cell_type": "code",
   "execution_count": null,
   "metadata": {},
   "outputs": [],
   "source": [
    "import numpy as np\n",
    "from matplotlib import pyplot as plt\n",
    "\n",
    "from scipy.signal import convolve2d\n",
    "import scipy as sc"
   ]
  },
  {
   "cell_type": "code",
   "execution_count": null,
   "metadata": {},
   "outputs": [],
   "source": [
    "t = np.linspace(0,2*np.pi*5,1000)\n",
    "y_t = np.sin(t)+np.random.random(1000)-0.5"
   ]
  },
  {
   "cell_type": "code",
   "execution_count": null,
   "metadata": {},
   "outputs": [],
   "source": [
    "plt.plot(t, y_t, label = r'$y(t)=sin(t)+\\varepsilon$')\n",
    "plt.legend()\n",
    "plt.title('Noicy signal')\n",
    "plt.show()"
   ]
  },
  {
   "cell_type": "code",
   "execution_count": null,
   "metadata": {},
   "outputs": [],
   "source": [
    "w = np.array([1,2,4,2,1])\n",
    "y_t_w = np.convolve(y_t, w/np.sum(w), mode='same')\n",
    "plt.plot(t, y_t_w)\n",
    "plt.title('w=' + str(w))\n",
    "plt.show()"
   ]
  },
  {
   "cell_type": "code",
   "execution_count": null,
   "metadata": {},
   "outputs": [],
   "source": [
    "w = np.array([1, 1, 1, 1, 1])\n",
    "y_t_w = np.convolve(y_t, w/np.sum(w), mode='same')\n",
    "plt.plot(t, y_t_w)\n",
    "plt.title('w=' + str(w))\n",
    "plt.show()"
   ]
  },
  {
   "cell_type": "code",
   "execution_count": null,
   "metadata": {},
   "outputs": [],
   "source": [
    "w = np.array([0.125, 0.25, 0.5, 1, 2, 1, 0.5, 0.25, 0.125])\n",
    "y_t_w=np.convolve(y_t, w/np.sum(w), mode='same')\n",
    "plt.plot(t, y_t_w)\n",
    "plt.title('w=' + str(w))\n",
    "plt.show()"
   ]
  },
  {
   "cell_type": "code",
   "execution_count": null,
   "metadata": {},
   "outputs": [],
   "source": []
  },
  {
   "cell_type": "code",
   "execution_count": null,
   "metadata": {
    "scrolled": false
   },
   "outputs": [],
   "source": [
    "from skimage import data, io, filters\n",
    "def plot_fig(im,cm='viridis'):\n",
    "    plt.imshow(im,cmap=cm)\n",
    "    plt.axis('off')\n",
    "    plt.show()\n",
    "d = data\n",
    "\n",
    "plot_fig(d.astronaut())\n",
    "plot_fig(d.horse(), 'gray')\n",
    "plot_fig(d.camera(), 'gray' )\n",
    "plot_fig(d.checkerboard(),'gray' )\n",
    "plot_fig(d.clock(), 'gray' )\n",
    "plot_fig(d.coffee() )\n",
    "plot_fig(d.moon(), 'gray' )\n",
    "plot_fig(d.stereo_motorcycle()[1][:, :, :])\n",
    "plot_fig(d.stereo_motorcycle()[0][:, :, :])\n",
    "plot_fig(d.page(), 'gray')\n",
    "plot_fig(d.rocket())\n",
    "plot_fig(d.text(),'gray')\n"
   ]
  },
  {
   "cell_type": "code",
   "execution_count": null,
   "metadata": {},
   "outputs": [],
   "source": []
  },
  {
   "cell_type": "code",
   "execution_count": null,
   "metadata": {},
   "outputs": [],
   "source": []
  },
  {
   "cell_type": "code",
   "execution_count": null,
   "metadata": {},
   "outputs": [],
   "source": [
    "\n",
    "image = d.coffee()[:, :, 2]\n",
    "size = np.shape(image)\n",
    "w = np.array([[0, 0, 0], [-1, 1, 0], [0, 0, 0]])\n",
    "im = convolve2d(image, w, mode='same')\n",
    "f,ax = plt.subplots(1, 2, figsize=(10,5))\n",
    "ax[0].imshow(image, cmap='gray')\n",
    "ax[0].axis('off')\n",
    "\n",
    "ax[1].imshow(im.reshape(size), cmap='gray')\n",
    "ax[1].axis('off')\n",
    "plt.show()"
   ]
  },
  {
   "cell_type": "code",
   "execution_count": null,
   "metadata": {},
   "outputs": [],
   "source": [
    "image = d.text()\n",
    "size = np.shape(image)\n",
    "\n",
    "image = d.coffee()[:, :, 2]\n",
    "\n",
    "w = np.array([[0, -1, 0], \n",
    "              [0, 1, 0], \n",
    "              [0, 0, 0]])\n",
    "im = sc.signal.convolve2d(image, w, mode='same')\n",
    "plot_fig(im, 'gray')\n",
    "\n"
   ]
  },
  {
   "cell_type": "code",
   "execution_count": null,
   "metadata": {},
   "outputs": [],
   "source": []
  },
  {
   "cell_type": "code",
   "execution_count": null,
   "metadata": {},
   "outputs": [],
   "source": [
    "image = d.text()\n",
    "\n",
    "w = np.array([[ 0, 0, 0],\n",
    "              [-1, 1, 0],\n",
    "              [ 0, 0, 0]])\n",
    "im = convolve2d(image, w, mode='same')\n",
    "plt.imshow(im.reshape(size), cmap='gray')\n",
    "plt.show()"
   ]
  },
  {
   "cell_type": "code",
   "execution_count": null,
   "metadata": {},
   "outputs": [],
   "source": [
    "image = d.text()\n",
    "w = np.array([[0,-1, 0],\n",
    "              [0, 1, 0],\n",
    "              [0, 0, 0]])\n",
    "im = convolve2d(image, w, mode='same')\n",
    "plt.imshow(im.reshape(size), cmap='gray')\n",
    "plt.show()"
   ]
  },
  {
   "cell_type": "code",
   "execution_count": null,
   "metadata": {},
   "outputs": [],
   "source": [
    "image = d.text()\n",
    "w = np.array([[-1, 0, 0],\n",
    "              [ 0, 2, 0],\n",
    "              [ 0, 0,-1]])\n",
    "im = convolve2d(image, w, mode='same')\n",
    "plt.imshow(im.reshape(size), cmap='gray')\n",
    "plt.show()"
   ]
  },
  {
   "cell_type": "code",
   "execution_count": null,
   "metadata": {},
   "outputs": [],
   "source": [
    "image = d.text()\n",
    "w = np.array([[ 0, 0,-1],\n",
    "              [ 0, 2, 0],\n",
    "              [-1, 0, 0]])\n",
    "im = convolve2d(image, w, mode='same')\n",
    "plt.imshow(im.reshape(size), cmap='gray')\n",
    "plt.show()"
   ]
  },
  {
   "cell_type": "code",
   "execution_count": null,
   "metadata": {},
   "outputs": [],
   "source": [
    "image = d.camera()\n",
    "size = np.shape(image)\n",
    "\n",
    "w = np.array([[ 0, 0,-1],\n",
    "              [ 0, 2, 0],\n",
    "              [-1, 0, 0]])\n",
    "im = convolve2d(image,w,mode='same')\n",
    "plt.imshow(im.reshape(size), cmap='gray')\n",
    "plt.show()"
   ]
  },
  {
   "cell_type": "code",
   "execution_count": null,
   "metadata": {},
   "outputs": [],
   "source": [
    "image = d.camera()\n",
    "size = np.shape(image)\n",
    "\n",
    "w = np.array([[ 0, 0, 0],\n",
    "              [-1, 1, 0],\n",
    "              [ 0, 0, 0]])\n",
    "im = convolve2d(image,w,mode='same')\n",
    "plt.imshow(im.reshape(size), cmap='gray')\n",
    "plt.show()"
   ]
  },
  {
   "cell_type": "code",
   "execution_count": null,
   "metadata": {},
   "outputs": [],
   "source": [
    "image = d.camera()\n",
    "size = np.shape(image)\n",
    "\n",
    "w = np.array([[0,-1, 0],\n",
    "              [0, 1, 0],\n",
    "              [0, 0, 0]])\n",
    "im = convolve2d(image,w,mode='same')\n",
    "plt.imshow(im.reshape(size), cmap='gray')\n",
    "plt.show()"
   ]
  },
  {
   "cell_type": "code",
   "execution_count": null,
   "metadata": {},
   "outputs": [],
   "source": [
    "image = d.camera()\n",
    "size = np.shape(image)\n",
    "\n",
    "w = np.array([[-1, 0, 0],\n",
    "              [ 0, 2, 0],\n",
    "              [ 0, 0,-1]])\n",
    "im= convolve2d(image,w,mode='same')\n",
    "plt.imshow(im.reshape(size), cmap='gray')\n",
    "plt.show()"
   ]
  },
  {
   "cell_type": "code",
   "execution_count": null,
   "metadata": {},
   "outputs": [],
   "source": [
    "image = d.checkerboard()\n",
    "size = np.shape(image)\n",
    "\n",
    "w = np.array([[-1, 0, 1],\n",
    "              [ 0, 0, 0],\n",
    "              [ 1, 0,-1]])\n",
    "im = convolve2d(image, w, mode='same')\n",
    "plt.imshow(d.checkerboard(), cmap='gray')\n",
    "plt.axis('off')\n",
    "plt.show()\n",
    "\n",
    "plt.imshow(im.reshape(size), cmap='gray')\n",
    "plt.axis('off')\n",
    "plt.show()\n"
   ]
  },
  {
   "cell_type": "code",
   "execution_count": null,
   "metadata": {},
   "outputs": [],
   "source": [
    "image = d.camera()\n",
    "size = np.shape(image)\n",
    "\n",
    "w = np.array([[-1, 0, 1],\n",
    "              [ 0, 0, 0],\n",
    "              [ 1, 0,-1]])\n",
    "im = convolve2d(image, w, mode='same')\n",
    "\n",
    "plt.imshow(im.reshape(size), cmap='gray')\n",
    "plt.show()\n",
    "plt.imshow(image, cmap='gray')\n",
    "plt.show()"
   ]
  },
  {
   "cell_type": "code",
   "execution_count": null,
   "metadata": {},
   "outputs": [],
   "source": [
    "image = d.camera()\n",
    "size = np.shape(image)\n",
    "\n",
    "w = np.array([[0,-1, 0],\n",
    "              [1, 0, 0],\n",
    "              [0, 0, 0]])\n",
    "im = convolve2d(image,w,mode='same')\n",
    "plt.imshow(im.reshape(size), cmap='gray')\n",
    "plt.colorbar()\n",
    "plt.show()\n",
    "\n",
    "w = np.array([[0, 1, 0],\n",
    "              [0, 0,-1],\n",
    "              [0, 0, 0]])\n",
    "im = convolve2d(image,w,mode='same')\n",
    "plt.imshow(im.reshape(size), cmap='gray')\n",
    "plt.colorbar()\n",
    "plt.show()\n",
    "\n",
    "w = np.array([[-1,-1,-1],\n",
    "              [-1, 8,-1],\n",
    "              [-1,-1,-1]])\n",
    "im = convolve2d(image, w, mode='same')\n",
    "plt.imshow(im.reshape(size), cmap='gray')\n",
    "plt.colorbar()\n",
    "plt.show()\n"
   ]
  },
  {
   "cell_type": "code",
   "execution_count": null,
   "metadata": {},
   "outputs": [],
   "source": []
  },
  {
   "cell_type": "code",
   "execution_count": null,
   "metadata": {},
   "outputs": [],
   "source": []
  },
  {
   "cell_type": "code",
   "execution_count": null,
   "metadata": {
    "scrolled": false
   },
   "outputs": [],
   "source": []
  },
  {
   "cell_type": "code",
   "execution_count": null,
   "metadata": {},
   "outputs": [],
   "source": []
  },
  {
   "cell_type": "code",
   "execution_count": null,
   "metadata": {},
   "outputs": [],
   "source": []
  },
  {
   "cell_type": "code",
   "execution_count": null,
   "metadata": {},
   "outputs": [],
   "source": []
  },
  {
   "cell_type": "code",
   "execution_count": null,
   "metadata": {},
   "outputs": [],
   "source": []
  },
  {
   "cell_type": "code",
   "execution_count": null,
   "metadata": {},
   "outputs": [],
   "source": []
  },
  {
   "cell_type": "code",
   "execution_count": null,
   "metadata": {},
   "outputs": [],
   "source": []
  }
 ],
 "metadata": {
  "kernelspec": {
   "display_name": "Python 3",
   "language": "python",
   "name": "python3"
  },
  "language_info": {
   "codemirror_mode": {
    "name": "ipython",
    "version": 3
   },
   "file_extension": ".py",
   "mimetype": "text/x-python",
   "name": "python",
   "nbconvert_exporter": "python",
   "pygments_lexer": "ipython3",
   "version": "3.6.8"
  }
 },
 "nbformat": 4,
 "nbformat_minor": 2
}
